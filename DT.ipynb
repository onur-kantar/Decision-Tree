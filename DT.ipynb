{
  "nbformat": 4,
  "nbformat_minor": 0,
  "metadata": {
    "colab": {
      "name": "DT.ipynb",
      "provenance": [],
      "collapsed_sections": []
    },
    "kernelspec": {
      "name": "python3",
      "display_name": "Python 3"
    }
  },
  "cells": [
    {
      "cell_type": "markdown",
      "metadata": {
        "id": "xjgXe3-qhVKP",
        "colab_type": "text"
      },
      "source": [
        "# Ön Bilgi\n",
        "**Geliştiren :** Onur Kantar\n",
        "\n",
        "**Veri Kümesinin İçeriği :** 3 farklı sınıfa ait toplamda 3000 tweet bulunmaktadır.\n",
        "\n",
        "**Tweet Sınıfları :** \n",
        "\n",
        "-\tOlumlu Tweetler\n",
        "-\tOlumsuz Tweetler\n",
        "-\tNötr Tweetler\n",
        "\n",
        "**Veri Kümesi Referansı :** \"Eğiticili ve Geleneksel Terim Ağırlıklandırma Yöntemleriyle Duygu Analizi\", Mahmut Çetin, M.Fatih Amasyalı, SIU 2013, KKTC\n",
        "\n",
        "**Algoritma :** Decision Tree (DT)\n",
        "\n",
        "**Ağ Mimarisi :** \n",
        "\n",
        "\n",
        "**batch_size :** \n",
        "\n",
        "**epochs :** \n",
        "\n",
        "**Doğruluk Oranı :** %100\n",
        "\n",
        "\n",
        "---\n",
        "\n"
      ]
    },
    {
      "cell_type": "code",
      "metadata": {
        "id": "vVlVvRTAiXd3",
        "colab_type": "code",
        "colab": {
          "base_uri": "https://localhost:8080/",
          "height": 87
        },
        "outputId": "26ee5e3d-4686-4cba-e685-ef4373112d2d"
      },
      "source": [
        "import pandas as pd                     \n",
        "import re\n",
        "import nltk\n",
        "from nltk.corpus import stopwords\n",
        "import seaborn as sns\n",
        "from sklearn import preprocessing\n",
        "from sklearn.preprocessing import StandardScaler\n",
        "from keras.utils import to_categorical\n",
        "from sklearn.model_selection import train_test_split\n",
        "from keras.preprocessing.text import Tokenizer\n",
        "from keras.preprocessing.sequence import pad_sequences\n",
        "from sklearn.tree import DecisionTreeClassifier\n",
        "from sklearn.metrics import accuracy_score\n",
        "import numpy as np\n",
        "from sklearn.metrics import confusion_matrix\n",
        "from mlxtend.plotting import plot_confusion_matrix"
      ],
      "execution_count": 1,
      "outputs": [
        {
          "output_type": "stream",
          "text": [
            "/usr/local/lib/python3.6/dist-packages/statsmodels/tools/_testing.py:19: FutureWarning: pandas.util.testing is deprecated. Use the functions in the public API at pandas.testing instead.\n",
            "  import pandas.util.testing as tm\n",
            "Using TensorFlow backend.\n"
          ],
          "name": "stderr"
        }
      ]
    },
    {
      "cell_type": "code",
      "metadata": {
        "id": "i2Wvf_77gEyv",
        "colab_type": "code",
        "colab": {
          "base_uri": "https://localhost:8080/",
          "height": 402
        },
        "outputId": "9fdfbd82-2df9-4c21-e7d1-b3f16f030b9f"
      },
      "source": [
        "tweets = pd.read_csv(\"/content/drive/My Drive/Colab Notebooks/Data Sets/3000tweet.csv\", sep=';', encoding=\"utf8\")\n",
        "tweets"
      ],
      "execution_count": 2,
      "outputs": [
        {
          "output_type": "execute_result",
          "data": {
            "text/html": [
              "<div>\n",
              "<style scoped>\n",
              "    .dataframe tbody tr th:only-of-type {\n",
              "        vertical-align: middle;\n",
              "    }\n",
              "\n",
              "    .dataframe tbody tr th {\n",
              "        vertical-align: top;\n",
              "    }\n",
              "\n",
              "    .dataframe thead th {\n",
              "        text-align: right;\n",
              "    }\n",
              "</style>\n",
              "<table border=\"1\" class=\"dataframe\">\n",
              "  <thead>\n",
              "    <tr style=\"text-align: right;\">\n",
              "      <th></th>\n",
              "      <th>tweet</th>\n",
              "      <th>durum</th>\n",
              "    </tr>\n",
              "  </thead>\n",
              "  <tbody>\n",
              "    <tr>\n",
              "      <th>0</th>\n",
              "      <td>dun Turkcelle tepkilerimizden sonra bugün Turk...</td>\n",
              "      <td>1</td>\n",
              "    </tr>\n",
              "    <tr>\n",
              "      <th>1</th>\n",
              "      <td>girmezmiyim.. Turkcell kartim bile var.. Yarin...</td>\n",
              "      <td>1</td>\n",
              "    </tr>\n",
              "    <tr>\n",
              "      <th>2</th>\n",
              "      <td>tam tünelden gecerken 3g cekiyordu :D türkcell...</td>\n",
              "      <td>1</td>\n",
              "    </tr>\n",
              "    <tr>\n",
              "      <th>3</th>\n",
              "      <td>turkcell superonline fiber internet veya ADSL ...</td>\n",
              "      <td>1</td>\n",
              "    </tr>\n",
              "    <tr>\n",
              "      <th>4</th>\n",
              "      <td>bence Gnçtrkcll Ark Winterfest 2012'de 1.olur ...</td>\n",
              "      <td>1</td>\n",
              "    </tr>\n",
              "    <tr>\n",
              "      <th>...</th>\n",
              "      <td>...</td>\n",
              "      <td>...</td>\n",
              "    </tr>\n",
              "    <tr>\n",
              "      <th>2995</th>\n",
              "      <td>Evet kesinlikle çok az.. Turkcell bu konuda şu...</td>\n",
              "      <td>3</td>\n",
              "    </tr>\n",
              "    <tr>\n",
              "      <th>2996</th>\n",
              "      <td>selocan nedir abicim ya ?</td>\n",
              "      <td>3</td>\n",
              "    </tr>\n",
              "    <tr>\n",
              "      <th>2997</th>\n",
              "      <td>özturkcell e dönücz diye korkuyorum ama çanakk...</td>\n",
              "      <td>3</td>\n",
              "    </tr>\n",
              "    <tr>\n",
              "      <th>2998</th>\n",
              "      <td>turkcell se 532 yi ara puk kodunu ogrenme menu...</td>\n",
              "      <td>3</td>\n",
              "    </tr>\n",
              "    <tr>\n",
              "      <th>2999</th>\n",
              "      <td>CHIP Galaxy Y ve Chat Türkiye'de!: Samsung'un ...</td>\n",
              "      <td>3</td>\n",
              "    </tr>\n",
              "  </tbody>\n",
              "</table>\n",
              "<p>3000 rows × 2 columns</p>\n",
              "</div>"
            ],
            "text/plain": [
              "                                                  tweet  durum\n",
              "0     dun Turkcelle tepkilerimizden sonra bugün Turk...      1\n",
              "1     girmezmiyim.. Turkcell kartim bile var.. Yarin...      1\n",
              "2     tam tünelden gecerken 3g cekiyordu :D türkcell...      1\n",
              "3     turkcell superonline fiber internet veya ADSL ...      1\n",
              "4     bence Gnçtrkcll Ark Winterfest 2012'de 1.olur ...      1\n",
              "...                                                 ...    ...\n",
              "2995  Evet kesinlikle çok az.. Turkcell bu konuda şu...      3\n",
              "2996                          selocan nedir abicim ya ?      3\n",
              "2997  özturkcell e dönücz diye korkuyorum ama çanakk...      3\n",
              "2998  turkcell se 532 yi ara puk kodunu ogrenme menu...      3\n",
              "2999  CHIP Galaxy Y ve Chat Türkiye'de!: Samsung'un ...      3\n",
              "\n",
              "[3000 rows x 2 columns]"
            ]
          },
          "metadata": {
            "tags": []
          },
          "execution_count": 2
        }
      ]
    },
    {
      "cell_type": "markdown",
      "metadata": {
        "id": "zWB-sdU0Uumz",
        "colab_type": "text"
      },
      "source": [
        "# Veri Kümemizi Düzenleyelim : \n",
        "\n",
        "---\n",
        "\n"
      ]
    },
    {
      "cell_type": "markdown",
      "metadata": {
        "id": "cgwIsbnsU1nB",
        "colab_type": "text"
      },
      "source": [
        "### NULL Değerleri Silme İşlemi : "
      ]
    },
    {
      "cell_type": "code",
      "metadata": {
        "id": "4sgyQWIpU9KE",
        "colab_type": "code",
        "colab": {
          "base_uri": "https://localhost:8080/",
          "height": 67
        },
        "outputId": "1547d041-13f4-45ec-cbe6-0d0b5b6f4a4f"
      },
      "source": [
        "tweets.isnull().sum()"
      ],
      "execution_count": 3,
      "outputs": [
        {
          "output_type": "execute_result",
          "data": {
            "text/plain": [
              "tweet    1\n",
              "durum    0\n",
              "dtype: int64"
            ]
          },
          "metadata": {
            "tags": []
          },
          "execution_count": 3
        }
      ]
    },
    {
      "cell_type": "code",
      "metadata": {
        "id": "AlCyAlwjU-Ga",
        "colab_type": "code",
        "colab": {
          "base_uri": "https://localhost:8080/",
          "height": 67
        },
        "outputId": "814af50b-f8e6-46ba-a3df-3751941c918c"
      },
      "source": [
        "tweets = tweets.dropna().reset_index(drop=True)\n",
        "tweets.isnull().sum()"
      ],
      "execution_count": 4,
      "outputs": [
        {
          "output_type": "execute_result",
          "data": {
            "text/plain": [
              "tweet    0\n",
              "durum    0\n",
              "dtype: int64"
            ]
          },
          "metadata": {
            "tags": []
          },
          "execution_count": 4
        }
      ]
    },
    {
      "cell_type": "markdown",
      "metadata": {
        "id": "euHvgy8-VLQJ",
        "colab_type": "text"
      },
      "source": [
        "### Gereksiz Kelimeleri - Boşukları - İşaretleri Silme İşlemleri :  "
      ]
    },
    {
      "cell_type": "code",
      "metadata": {
        "id": "cubr8YyQU_yF",
        "colab_type": "code",
        "colab": {
          "base_uri": "https://localhost:8080/",
          "height": 941
        },
        "outputId": "7d78b36c-9841-4d45-aaa9-a74cfec5d18e"
      },
      "source": [
        "nltk.download('stopwords')\n",
        "stop_word_list = stopwords.words('turkish')\n",
        "stop_word_list"
      ],
      "execution_count": 5,
      "outputs": [
        {
          "output_type": "stream",
          "text": [
            "[nltk_data] Downloading package stopwords to /root/nltk_data...\n",
            "[nltk_data]   Package stopwords is already up-to-date!\n"
          ],
          "name": "stdout"
        },
        {
          "output_type": "execute_result",
          "data": {
            "text/plain": [
              "['acaba',\n",
              " 'ama',\n",
              " 'aslında',\n",
              " 'az',\n",
              " 'bazı',\n",
              " 'belki',\n",
              " 'biri',\n",
              " 'birkaç',\n",
              " 'birşey',\n",
              " 'biz',\n",
              " 'bu',\n",
              " 'çok',\n",
              " 'çünkü',\n",
              " 'da',\n",
              " 'daha',\n",
              " 'de',\n",
              " 'defa',\n",
              " 'diye',\n",
              " 'eğer',\n",
              " 'en',\n",
              " 'gibi',\n",
              " 'hem',\n",
              " 'hep',\n",
              " 'hepsi',\n",
              " 'her',\n",
              " 'hiç',\n",
              " 'için',\n",
              " 'ile',\n",
              " 'ise',\n",
              " 'kez',\n",
              " 'ki',\n",
              " 'kim',\n",
              " 'mı',\n",
              " 'mu',\n",
              " 'mü',\n",
              " 'nasıl',\n",
              " 'ne',\n",
              " 'neden',\n",
              " 'nerde',\n",
              " 'nerede',\n",
              " 'nereye',\n",
              " 'niçin',\n",
              " 'niye',\n",
              " 'o',\n",
              " 'sanki',\n",
              " 'şey',\n",
              " 'siz',\n",
              " 'şu',\n",
              " 'tüm',\n",
              " 've',\n",
              " 'veya',\n",
              " 'ya',\n",
              " 'yani']"
            ]
          },
          "metadata": {
            "tags": []
          },
          "execution_count": 5
        }
      ]
    },
    {
      "cell_type": "code",
      "metadata": {
        "id": "aJCqQS7_VP5r",
        "colab_type": "code",
        "colab": {}
      },
      "source": [
        "def preprocess_text(sen):\n",
        "    \n",
        "    # Sayıları Silme İşlemi\n",
        "    sentence = re.sub('[\\d\\s]', ' ', str(sen))\n",
        "\n",
        "    # Noktalama İşaretlerini Silme İşlemi\n",
        "    sentence = re.sub('[^\\w\\s]', ' ', str(sentence))\n",
        "    \n",
        "    # Tek Karakterleri Silme İşlemi\n",
        "    sentence = re.sub(r\"\\b[\\w\\s]\\b\", ' ',str(sentence))\n",
        "    \n",
        "    # Birden Çok Boşluğu Silme İşlemi\n",
        "    sentence = re.sub(r'\\s+', ' ', sentence)\n",
        "        \n",
        "    # Engellenecek Kelimeleri Silme İşlemi\n",
        "    WPT = nltk.WordPunctTokenizer()\n",
        "    tokens = WPT.tokenize(sentence)\n",
        "    filtered_tokens = [token for token in tokens if token not in stop_word_list]\n",
        "    single_doc = ' '.join(filtered_tokens)\n",
        "    \n",
        "    # Tüm Harfler Küçük Harfe Dönüştürülüyor\n",
        "    return single_doc.lower()"
      ],
      "execution_count": 6,
      "outputs": []
    },
    {
      "cell_type": "code",
      "metadata": {
        "id": "VdYeNLeelrYy",
        "colab_type": "code",
        "colab": {}
      },
      "source": [
        "x = tweets['tweet']\n",
        "y = tweets['durum']"
      ],
      "execution_count": 7,
      "outputs": []
    },
    {
      "cell_type": "code",
      "metadata": {
        "id": "s_xWMHOmlufm",
        "colab_type": "code",
        "colab": {
          "base_uri": "https://localhost:8080/",
          "height": 402
        },
        "outputId": "43689fc2-4661-42dc-b6f9-ce39f27be4b8"
      },
      "source": [
        "x = x.apply(preprocess_text)\n",
        "pd.DataFrame(data=x)"
      ],
      "execution_count": 8,
      "outputs": [
        {
          "output_type": "execute_result",
          "data": {
            "text/html": [
              "<div>\n",
              "<style scoped>\n",
              "    .dataframe tbody tr th:only-of-type {\n",
              "        vertical-align: middle;\n",
              "    }\n",
              "\n",
              "    .dataframe tbody tr th {\n",
              "        vertical-align: top;\n",
              "    }\n",
              "\n",
              "    .dataframe thead th {\n",
              "        text-align: right;\n",
              "    }\n",
              "</style>\n",
              "<table border=\"1\" class=\"dataframe\">\n",
              "  <thead>\n",
              "    <tr style=\"text-align: right;\">\n",
              "      <th></th>\n",
              "      <th>tweet</th>\n",
              "    </tr>\n",
              "  </thead>\n",
              "  <tbody>\n",
              "    <tr>\n",
              "      <th>0</th>\n",
              "      <td>dun turkcelle tepkilerimizden sonra bugün turk...</td>\n",
              "    </tr>\n",
              "    <tr>\n",
              "      <th>1</th>\n",
              "      <td>girmezmiyim turkcell kartim bile var yarindan ...</td>\n",
              "    </tr>\n",
              "    <tr>\n",
              "      <th>2</th>\n",
              "      <td>tam tünelden gecerken cekiyordu türkcell in re...</td>\n",
              "    </tr>\n",
              "    <tr>\n",
              "      <th>3</th>\n",
              "      <td>turkcell superonline fiber internet adsl sabit...</td>\n",
              "    </tr>\n",
              "    <tr>\n",
              "      <th>4</th>\n",
              "      <td>bence gnçtrkcll ark winterfest olur gelir</td>\n",
              "    </tr>\n",
              "    <tr>\n",
              "      <th>...</th>\n",
              "      <td>...</td>\n",
              "    </tr>\n",
              "    <tr>\n",
              "      <th>2994</th>\n",
              "      <td>evet kesinlikle turkcell konuda an uygun değil...</td>\n",
              "    </tr>\n",
              "    <tr>\n",
              "      <th>2995</th>\n",
              "      <td>selocan nedir abicim</td>\n",
              "    </tr>\n",
              "    <tr>\n",
              "      <th>2996</th>\n",
              "      <td>özturkcell dönücz korkuyorum çanakkale holding...</td>\n",
              "    </tr>\n",
              "    <tr>\n",
              "      <th>2997</th>\n",
              "      <td>turkcell se yi ara puk kodunu ogrenme menusund...</td>\n",
              "    </tr>\n",
              "    <tr>\n",
              "      <th>2998</th>\n",
              "      <td>chip galaxy chat türkiye samsung un kompakt ce...</td>\n",
              "    </tr>\n",
              "  </tbody>\n",
              "</table>\n",
              "<p>2999 rows × 1 columns</p>\n",
              "</div>"
            ],
            "text/plain": [
              "                                                  tweet\n",
              "0     dun turkcelle tepkilerimizden sonra bugün turk...\n",
              "1     girmezmiyim turkcell kartim bile var yarindan ...\n",
              "2     tam tünelden gecerken cekiyordu türkcell in re...\n",
              "3     turkcell superonline fiber internet adsl sabit...\n",
              "4             bence gnçtrkcll ark winterfest olur gelir\n",
              "...                                                 ...\n",
              "2994  evet kesinlikle turkcell konuda an uygun değil...\n",
              "2995                               selocan nedir abicim\n",
              "2996  özturkcell dönücz korkuyorum çanakkale holding...\n",
              "2997  turkcell se yi ara puk kodunu ogrenme menusund...\n",
              "2998  chip galaxy chat türkiye samsung un kompakt ce...\n",
              "\n",
              "[2999 rows x 1 columns]"
            ]
          },
          "metadata": {
            "tags": []
          },
          "execution_count": 8
        }
      ]
    },
    {
      "cell_type": "code",
      "metadata": {
        "id": "VK8zrmo2mdey",
        "colab_type": "code",
        "colab": {
          "base_uri": "https://localhost:8080/",
          "height": 296
        },
        "outputId": "1b63d2b4-9a9d-48ae-e5e5-1456c40c3400"
      },
      "source": [
        "sns.countplot(y)"
      ],
      "execution_count": 9,
      "outputs": [
        {
          "output_type": "execute_result",
          "data": {
            "text/plain": [
              "<matplotlib.axes._subplots.AxesSubplot at 0x7f96cdd8be80>"
            ]
          },
          "metadata": {
            "tags": []
          },
          "execution_count": 9
        },
        {
          "output_type": "display_data",
          "data": {
            "image/png": "[encoded data removed]",
            "text/plain": [
              "<Figure size 432x288 with 1 Axes>"
            ]
          },
          "metadata": {
            "tags": [],
            "needs_background": "light"
          }
        }
      ]
    },
    {
      "cell_type": "markdown",
      "metadata": {
        "id": "QYAWu8NNqPjV",
        "colab_type": "text"
      },
      "source": [
        "## Kelimeleri Sayılara Dönüştürelim : \n",
        "\n",
        "Veri setimizin işlenebilmesi için text verileri numaralara çevirmemiz gerekir.\n"
      ]
    },
    {
      "cell_type": "code",
      "metadata": {
        "id": "lCI2pvRzp8vh",
        "colab_type": "code",
        "colab": {}
      },
      "source": [
        "token = Tokenizer()\n",
        "# Her kelimenin sıklığını hesaplar\n",
        "token.fit_on_texts(x)\n",
        "# Tüm kelimeleri sayı dizisine dönüştürür\n",
        "x = token.texts_to_sequences(x)\n",
        "# Bütün metinlerimiz en uzun kelimeden oluşan metnimiz kadar sütundan oluşan (23) bir dizi ile temsil edilecek.\n",
        "# 23'den kısa metinlerin boşlukları 0'lar ile doldurulacak.\n",
        "x = pad_sequences(x)"
      ],
      "execution_count": 10,
      "outputs": []
    },
    {
      "cell_type": "code",
      "metadata": {
        "id": "-txDv2MwqVla",
        "colab_type": "code",
        "colab": {
          "base_uri": "https://localhost:8080/",
          "height": 195
        },
        "outputId": "a1b094a6-85b1-43d2-fadc-b7d1871015c1"
      },
      "source": [
        "pd.DataFrame(x).sample(5)"
      ],
      "execution_count": 11,
      "outputs": [
        {
          "output_type": "execute_result",
          "data": {
            "text/html": [
              "<div>\n",
              "<style scoped>\n",
              "    .dataframe tbody tr th:only-of-type {\n",
              "        vertical-align: middle;\n",
              "    }\n",
              "\n",
              "    .dataframe tbody tr th {\n",
              "        vertical-align: top;\n",
              "    }\n",
              "\n",
              "    .dataframe thead th {\n",
              "        text-align: right;\n",
              "    }\n",
              "</style>\n",
              "<table border=\"1\" class=\"dataframe\">\n",
              "  <thead>\n",
              "    <tr style=\"text-align: right;\">\n",
              "      <th></th>\n",
              "      <th>0</th>\n",
              "      <th>1</th>\n",
              "      <th>2</th>\n",
              "      <th>3</th>\n",
              "      <th>4</th>\n",
              "      <th>5</th>\n",
              "      <th>6</th>\n",
              "      <th>7</th>\n",
              "      <th>8</th>\n",
              "      <th>9</th>\n",
              "      <th>10</th>\n",
              "      <th>11</th>\n",
              "      <th>12</th>\n",
              "      <th>13</th>\n",
              "      <th>14</th>\n",
              "      <th>15</th>\n",
              "      <th>16</th>\n",
              "      <th>17</th>\n",
              "      <th>18</th>\n",
              "      <th>19</th>\n",
              "      <th>20</th>\n",
              "      <th>21</th>\n",
              "      <th>22</th>\n",
              "    </tr>\n",
              "  </thead>\n",
              "  <tbody>\n",
              "    <tr>\n",
              "      <th>1031</th>\n",
              "      <td>0</td>\n",
              "      <td>0</td>\n",
              "      <td>0</td>\n",
              "      <td>0</td>\n",
              "      <td>0</td>\n",
              "      <td>0</td>\n",
              "      <td>0</td>\n",
              "      <td>0</td>\n",
              "      <td>0</td>\n",
              "      <td>0</td>\n",
              "      <td>0</td>\n",
              "      <td>0</td>\n",
              "      <td>0</td>\n",
              "      <td>0</td>\n",
              "      <td>0</td>\n",
              "      <td>0</td>\n",
              "      <td>0</td>\n",
              "      <td>5</td>\n",
              "      <td>159</td>\n",
              "      <td>5</td>\n",
              "      <td>5757</td>\n",
              "      <td>5758</td>\n",
              "      <td>5759</td>\n",
              "    </tr>\n",
              "    <tr>\n",
              "      <th>6</th>\n",
              "      <td>0</td>\n",
              "      <td>0</td>\n",
              "      <td>0</td>\n",
              "      <td>0</td>\n",
              "      <td>0</td>\n",
              "      <td>0</td>\n",
              "      <td>0</td>\n",
              "      <td>0</td>\n",
              "      <td>0</td>\n",
              "      <td>0</td>\n",
              "      <td>0</td>\n",
              "      <td>0</td>\n",
              "      <td>0</td>\n",
              "      <td>0</td>\n",
              "      <td>0</td>\n",
              "      <td>0</td>\n",
              "      <td>0</td>\n",
              "      <td>0</td>\n",
              "      <td>0</td>\n",
              "      <td>390</td>\n",
              "      <td>83</td>\n",
              "      <td>70</td>\n",
              "      <td>151</td>\n",
              "    </tr>\n",
              "    <tr>\n",
              "      <th>2212</th>\n",
              "      <td>0</td>\n",
              "      <td>0</td>\n",
              "      <td>0</td>\n",
              "      <td>0</td>\n",
              "      <td>0</td>\n",
              "      <td>0</td>\n",
              "      <td>0</td>\n",
              "      <td>0</td>\n",
              "      <td>0</td>\n",
              "      <td>0</td>\n",
              "      <td>0</td>\n",
              "      <td>0</td>\n",
              "      <td>0</td>\n",
              "      <td>0</td>\n",
              "      <td>0</td>\n",
              "      <td>0</td>\n",
              "      <td>0</td>\n",
              "      <td>0</td>\n",
              "      <td>0</td>\n",
              "      <td>1</td>\n",
              "      <td>333</td>\n",
              "      <td>3039</td>\n",
              "      <td>195</td>\n",
              "    </tr>\n",
              "    <tr>\n",
              "      <th>2214</th>\n",
              "      <td>0</td>\n",
              "      <td>0</td>\n",
              "      <td>0</td>\n",
              "      <td>0</td>\n",
              "      <td>3040</td>\n",
              "      <td>242</td>\n",
              "      <td>1232</td>\n",
              "      <td>9433</td>\n",
              "      <td>242</td>\n",
              "      <td>9434</td>\n",
              "      <td>12</td>\n",
              "      <td>12</td>\n",
              "      <td>9435</td>\n",
              "      <td>624</td>\n",
              "      <td>3007</td>\n",
              "      <td>773</td>\n",
              "      <td>1749</td>\n",
              "      <td>5</td>\n",
              "      <td>9436</td>\n",
              "      <td>1784</td>\n",
              "      <td>1</td>\n",
              "      <td>9437</td>\n",
              "      <td>9438</td>\n",
              "    </tr>\n",
              "    <tr>\n",
              "      <th>1797</th>\n",
              "      <td>0</td>\n",
              "      <td>0</td>\n",
              "      <td>0</td>\n",
              "      <td>0</td>\n",
              "      <td>0</td>\n",
              "      <td>0</td>\n",
              "      <td>0</td>\n",
              "      <td>0</td>\n",
              "      <td>0</td>\n",
              "      <td>0</td>\n",
              "      <td>0</td>\n",
              "      <td>0</td>\n",
              "      <td>0</td>\n",
              "      <td>0</td>\n",
              "      <td>1</td>\n",
              "      <td>8252</td>\n",
              "      <td>1525</td>\n",
              "      <td>604</td>\n",
              "      <td>8253</td>\n",
              "      <td>405</td>\n",
              "      <td>8254</td>\n",
              "      <td>86</td>\n",
              "      <td>8255</td>\n",
              "    </tr>\n",
              "  </tbody>\n",
              "</table>\n",
              "</div>"
            ],
            "text/plain": [
              "      0   1   2   3     4    5     6   ...    16   17    18    19    20    21    22\n",
              "1031   0   0   0   0     0    0     0  ...     0    5   159     5  5757  5758  5759\n",
              "6      0   0   0   0     0    0     0  ...     0    0     0   390    83    70   151\n",
              "2212   0   0   0   0     0    0     0  ...     0    0     0     1   333  3039   195\n",
              "2214   0   0   0   0  3040  242  1232  ...  1749    5  9436  1784     1  9437  9438\n",
              "1797   0   0   0   0     0    0     0  ...  1525  604  8253   405  8254    86  8255\n",
              "\n",
              "[5 rows x 23 columns]"
            ]
          },
          "metadata": {
            "tags": []
          },
          "execution_count": 11
        }
      ]
    },
    {
      "cell_type": "markdown",
      "metadata": {
        "id": "jrM52TTKqo0N",
        "colab_type": "text"
      },
      "source": [
        "## X Verilerimizi Ölçeklendirelim : \n",
        "\n",
        "**Verileri Ölçeklendirme Nedir?**\n",
        "\n",
        "Ölçeklendirme dediğimiz şey veri setindeki iki farklı özelliğin (değişkenin) değerlerini en doğru şekilde analiz edebilmemize olanak sağlayan bir yöntemdir.\n",
        "\n",
        "- Verilerinizin dağılımının ortalama değeri 0 ve standart sapma değeri 1 olacak şekilde değiştiriyoruz (Standartlaştırma).\n",
        "- Tutarlılık oluşuyor. Bir veri diğer verilerden daha büyükse diğerleri üzerinde egemenlik kurabilir. Bunu istemeyiz.\n",
        "- Bir öğrenme modeliyle çalışırken, özellikleri sıfır merkezli bir aralığa ölçeklemek önemlidir.\n",
        "- Değerleri karşılaştırmak yerine oranları karşılaştırmış oluruz.\n",
        "\n",
        "**Örnek :**\n",
        "\n",
        "İki farklı insan düşünelim. Bu insanların birisinin geliri ayda 5.000 Türk Lirası iken diğerinin geliri ayda 200.000 Türk Lirası olsun. Bu insanların ikisi de her ay belirli miktarda maddi yardım için maaşlarının bir kısmını ayırıyorlar. Diyelim ki 5.000 Türk Lirası maaşı olan şahıs 1.500 Türk Lirasını yardıma ayırıyorken, 200.000 Türk Lirası alan şahıs 10.000 Türk Lirasını yardım için ayırıyor.\n",
        "\n",
        "Normal bir gözle bakarsak 10.000 Türk Lirası yardımda bulunan kişinin daha fazla yardım yaptığını görürüz. Fakat bunu oranladığımızda 5.000 Türk Lirası alan kişinin oransal olarak kat kat fazla yardım yaptığı anlaşılacaktır. İşte özellik ölçeklendirme ile biz bu özelliklerin sayısal değerlerinin birbirine yakın olmasını sağlayıp aralarındaki değerleri karşılaştırmak yerine oranları karşılaştırırız."
      ]
    },
    {
      "cell_type": "code",
      "metadata": {
        "id": "SequOqXeqaPw",
        "colab_type": "code",
        "colab": {}
      },
      "source": [
        "scaler = StandardScaler()\n",
        "x = scaler.fit_transform(x)"
      ],
      "execution_count": 12,
      "outputs": []
    },
    {
      "cell_type": "code",
      "metadata": {
        "id": "YDFBhFeqq2XY",
        "colab_type": "code",
        "colab": {
          "base_uri": "https://localhost:8080/",
          "height": 215
        },
        "outputId": "92118671-d5d0-4e24-f110-1f8eaeadd4ed"
      },
      "source": [
        "pd.DataFrame(x).sample(5)"
      ],
      "execution_count": 13,
      "outputs": [
        {
          "output_type": "execute_result",
          "data": {
            "text/html": [
              "<div>\n",
              "<style scoped>\n",
              "    .dataframe tbody tr th:only-of-type {\n",
              "        vertical-align: middle;\n",
              "    }\n",
              "\n",
              "    .dataframe tbody tr th {\n",
              "        vertical-align: top;\n",
              "    }\n",
              "\n",
              "    .dataframe thead th {\n",
              "        text-align: right;\n",
              "    }\n",
              "</style>\n",
              "<table border=\"1\" class=\"dataframe\">\n",
              "  <thead>\n",
              "    <tr style=\"text-align: right;\">\n",
              "      <th></th>\n",
              "      <th>0</th>\n",
              "      <th>1</th>\n",
              "      <th>2</th>\n",
              "      <th>3</th>\n",
              "      <th>4</th>\n",
              "      <th>5</th>\n",
              "      <th>6</th>\n",
              "      <th>7</th>\n",
              "      <th>8</th>\n",
              "      <th>9</th>\n",
              "      <th>10</th>\n",
              "      <th>11</th>\n",
              "      <th>12</th>\n",
              "      <th>13</th>\n",
              "      <th>14</th>\n",
              "      <th>15</th>\n",
              "      <th>16</th>\n",
              "      <th>17</th>\n",
              "      <th>18</th>\n",
              "      <th>19</th>\n",
              "      <th>20</th>\n",
              "      <th>21</th>\n",
              "      <th>22</th>\n",
              "    </tr>\n",
              "  </thead>\n",
              "  <tbody>\n",
              "    <tr>\n",
              "      <th>2633</th>\n",
              "      <td>-0.018319</td>\n",
              "      <td>-0.022991</td>\n",
              "      <td>-0.033498</td>\n",
              "      <td>-0.042654</td>\n",
              "      <td>-0.075303</td>\n",
              "      <td>-0.119129</td>\n",
              "      <td>-0.167608</td>\n",
              "      <td>-0.225485</td>\n",
              "      <td>-0.279964</td>\n",
              "      <td>-0.321374</td>\n",
              "      <td>-0.365379</td>\n",
              "      <td>-0.414129</td>\n",
              "      <td>-0.460660</td>\n",
              "      <td>-0.483752</td>\n",
              "      <td>-0.514478</td>\n",
              "      <td>-0.199134</td>\n",
              "      <td>2.862365</td>\n",
              "      <td>2.737697</td>\n",
              "      <td>-0.662745</td>\n",
              "      <td>-0.459297</td>\n",
              "      <td>-0.661076</td>\n",
              "      <td>-0.789953</td>\n",
              "      <td>-0.375592</td>\n",
              "    </tr>\n",
              "    <tr>\n",
              "      <th>1801</th>\n",
              "      <td>-0.018319</td>\n",
              "      <td>-0.022991</td>\n",
              "      <td>-0.033498</td>\n",
              "      <td>-0.042654</td>\n",
              "      <td>-0.075303</td>\n",
              "      <td>-0.119129</td>\n",
              "      <td>-0.167608</td>\n",
              "      <td>-0.225485</td>\n",
              "      <td>-0.279964</td>\n",
              "      <td>-0.310582</td>\n",
              "      <td>-0.364936</td>\n",
              "      <td>-0.402737</td>\n",
              "      <td>-0.432531</td>\n",
              "      <td>-0.165510</td>\n",
              "      <td>-0.500659</td>\n",
              "      <td>2.231456</td>\n",
              "      <td>-0.587962</td>\n",
              "      <td>1.995451</td>\n",
              "      <td>-0.169515</td>\n",
              "      <td>0.177377</td>\n",
              "      <td>-0.584695</td>\n",
              "      <td>-0.790512</td>\n",
              "      <td>-0.694279</td>\n",
              "    </tr>\n",
              "    <tr>\n",
              "      <th>2927</th>\n",
              "      <td>-0.018319</td>\n",
              "      <td>-0.022991</td>\n",
              "      <td>-0.033498</td>\n",
              "      <td>-0.042654</td>\n",
              "      <td>-0.075303</td>\n",
              "      <td>13.621329</td>\n",
              "      <td>0.451790</td>\n",
              "      <td>-0.222216</td>\n",
              "      <td>5.662995</td>\n",
              "      <td>5.329308</td>\n",
              "      <td>-0.362722</td>\n",
              "      <td>4.273124</td>\n",
              "      <td>-0.270600</td>\n",
              "      <td>0.653342</td>\n",
              "      <td>3.568188</td>\n",
              "      <td>-0.536575</td>\n",
              "      <td>3.162181</td>\n",
              "      <td>3.029079</td>\n",
              "      <td>2.858928</td>\n",
              "      <td>-0.661737</td>\n",
              "      <td>-0.506265</td>\n",
              "      <td>-0.597473</td>\n",
              "      <td>2.365118</td>\n",
              "    </tr>\n",
              "    <tr>\n",
              "      <th>665</th>\n",
              "      <td>-0.018319</td>\n",
              "      <td>-0.022991</td>\n",
              "      <td>-0.033498</td>\n",
              "      <td>-0.042654</td>\n",
              "      <td>-0.075303</td>\n",
              "      <td>-0.119129</td>\n",
              "      <td>-0.167608</td>\n",
              "      <td>-0.225485</td>\n",
              "      <td>-0.279964</td>\n",
              "      <td>-0.035406</td>\n",
              "      <td>-0.340579</td>\n",
              "      <td>1.504549</td>\n",
              "      <td>-0.335221</td>\n",
              "      <td>0.308430</td>\n",
              "      <td>-0.514123</td>\n",
              "      <td>-0.216006</td>\n",
              "      <td>-0.585679</td>\n",
              "      <td>-0.565471</td>\n",
              "      <td>-0.645938</td>\n",
              "      <td>-0.541907</td>\n",
              "      <td>-0.710533</td>\n",
              "      <td>-0.778220</td>\n",
              "      <td>-0.230861</td>\n",
              "    </tr>\n",
              "    <tr>\n",
              "      <th>197</th>\n",
              "      <td>-0.018319</td>\n",
              "      <td>-0.022991</td>\n",
              "      <td>-0.033498</td>\n",
              "      <td>-0.042654</td>\n",
              "      <td>-0.075303</td>\n",
              "      <td>-0.119129</td>\n",
              "      <td>-0.167608</td>\n",
              "      <td>-0.225485</td>\n",
              "      <td>-0.279964</td>\n",
              "      <td>1.457708</td>\n",
              "      <td>0.214311</td>\n",
              "      <td>-0.413722</td>\n",
              "      <td>-0.155804</td>\n",
              "      <td>0.823816</td>\n",
              "      <td>0.771410</td>\n",
              "      <td>0.668090</td>\n",
              "      <td>0.587485</td>\n",
              "      <td>-0.620006</td>\n",
              "      <td>-0.426826</td>\n",
              "      <td>0.400999</td>\n",
              "      <td>-0.622154</td>\n",
              "      <td>0.218821</td>\n",
              "      <td>0.168542</td>\n",
              "    </tr>\n",
              "  </tbody>\n",
              "</table>\n",
              "</div>"
            ],
            "text/plain": [
              "            0         1         2   ...        20        21        22\n",
              "2633 -0.018319 -0.022991 -0.033498  ... -0.661076 -0.789953 -0.375592\n",
              "1801 -0.018319 -0.022991 -0.033498  ... -0.584695 -0.790512 -0.694279\n",
              "2927 -0.018319 -0.022991 -0.033498  ... -0.506265 -0.597473  2.365118\n",
              "665  -0.018319 -0.022991 -0.033498  ... -0.710533 -0.778220 -0.230861\n",
              "197  -0.018319 -0.022991 -0.033498  ... -0.622154  0.218821  0.168542\n",
              "\n",
              "[5 rows x 23 columns]"
            ]
          },
          "metadata": {
            "tags": []
          },
          "execution_count": 13
        }
      ]
    },
    {
      "cell_type": "markdown",
      "metadata": {
        "id": "LeRFgxc6q9d9",
        "colab_type": "text"
      },
      "source": [
        "# Y Verilerimizi One Hot Encoding Uygulamamız Gerekiyor :  \n",
        "\n",
        "\n",
        "---\n",
        "\n",
        "\n",
        "**One Hot Encoding Nedir?**\n",
        "\n",
        "One Hot Encoding, kategorik değişkenlerin ikili (binary) olarak temsil edilmesi anlamına gelmektedir. Bu işlem, ağın model için problemi daha kolay hale getirmesine yardımcı olabilir. \n",
        "\n",
        "\n",
        "- Bu işlem ilk önce kategorik değerlerin tamsayı değerleriyle eşlenmesini gerektirir.\n",
        "- Daha sonra, her bir tamsayı değeri, 1 ile işaretlenmiş tamsayı indeksi dışındaki tüm değerleri   sıfır  olan bir ikili vektör olarak temsil edilir."
      ]
    },
    {
      "cell_type": "code",
      "metadata": {
        "id": "8Z7ZtoURq3j5",
        "colab_type": "code",
        "colab": {
          "base_uri": "https://localhost:8080/",
          "height": 195
        },
        "outputId": "c471199b-4228-4b36-dcb7-edda89fae47e"
      },
      "source": [
        "pd.DataFrame(y).sample(5)"
      ],
      "execution_count": 14,
      "outputs": [
        {
          "output_type": "execute_result",
          "data": {
            "text/html": [
              "<div>\n",
              "<style scoped>\n",
              "    .dataframe tbody tr th:only-of-type {\n",
              "        vertical-align: middle;\n",
              "    }\n",
              "\n",
              "    .dataframe tbody tr th {\n",
              "        vertical-align: top;\n",
              "    }\n",
              "\n",
              "    .dataframe thead th {\n",
              "        text-align: right;\n",
              "    }\n",
              "</style>\n",
              "<table border=\"1\" class=\"dataframe\">\n",
              "  <thead>\n",
              "    <tr style=\"text-align: right;\">\n",
              "      <th></th>\n",
              "      <th>durum</th>\n",
              "    </tr>\n",
              "  </thead>\n",
              "  <tbody>\n",
              "    <tr>\n",
              "      <th>1510</th>\n",
              "      <td>2</td>\n",
              "    </tr>\n",
              "    <tr>\n",
              "      <th>2335</th>\n",
              "      <td>3</td>\n",
              "    </tr>\n",
              "    <tr>\n",
              "      <th>1785</th>\n",
              "      <td>2</td>\n",
              "    </tr>\n",
              "    <tr>\n",
              "      <th>1649</th>\n",
              "      <td>2</td>\n",
              "    </tr>\n",
              "    <tr>\n",
              "      <th>2540</th>\n",
              "      <td>3</td>\n",
              "    </tr>\n",
              "  </tbody>\n",
              "</table>\n",
              "</div>"
            ],
            "text/plain": [
              "      durum\n",
              "1510      2\n",
              "2335      3\n",
              "1785      2\n",
              "1649      2\n",
              "2540      3"
            ]
          },
          "metadata": {
            "tags": []
          },
          "execution_count": 14
        }
      ]
    },
    {
      "cell_type": "code",
      "metadata": {
        "id": "CrBla6LtrDtU",
        "colab_type": "code",
        "colab": {
          "base_uri": "https://localhost:8080/",
          "height": 195
        },
        "outputId": "13d345a8-702d-49a2-ec85-4af45209b531"
      },
      "source": [
        "le = preprocessing.LabelEncoder()\n",
        "y = le.fit_transform(y)\n",
        "pd.DataFrame(y).sample(5)"
      ],
      "execution_count": 15,
      "outputs": [
        {
          "output_type": "execute_result",
          "data": {
            "text/html": [
              "<div>\n",
              "<style scoped>\n",
              "    .dataframe tbody tr th:only-of-type {\n",
              "        vertical-align: middle;\n",
              "    }\n",
              "\n",
              "    .dataframe tbody tr th {\n",
              "        vertical-align: top;\n",
              "    }\n",
              "\n",
              "    .dataframe thead th {\n",
              "        text-align: right;\n",
              "    }\n",
              "</style>\n",
              "<table border=\"1\" class=\"dataframe\">\n",
              "  <thead>\n",
              "    <tr style=\"text-align: right;\">\n",
              "      <th></th>\n",
              "      <th>0</th>\n",
              "    </tr>\n",
              "  </thead>\n",
              "  <tbody>\n",
              "    <tr>\n",
              "      <th>2248</th>\n",
              "      <td>2</td>\n",
              "    </tr>\n",
              "    <tr>\n",
              "      <th>1007</th>\n",
              "      <td>1</td>\n",
              "    </tr>\n",
              "    <tr>\n",
              "      <th>1394</th>\n",
              "      <td>1</td>\n",
              "    </tr>\n",
              "    <tr>\n",
              "      <th>741</th>\n",
              "      <td>0</td>\n",
              "    </tr>\n",
              "    <tr>\n",
              "      <th>519</th>\n",
              "      <td>0</td>\n",
              "    </tr>\n",
              "  </tbody>\n",
              "</table>\n",
              "</div>"
            ],
            "text/plain": [
              "      0\n",
              "2248  2\n",
              "1007  1\n",
              "1394  1\n",
              "741   0\n",
              "519   0"
            ]
          },
          "metadata": {
            "tags": []
          },
          "execution_count": 15
        }
      ]
    },
    {
      "cell_type": "code",
      "metadata": {
        "id": "nKg1rQi8rGRc",
        "colab_type": "code",
        "colab": {
          "base_uri": "https://localhost:8080/",
          "height": 195
        },
        "outputId": "18fd827a-8718-4ca2-c106-cbb43ed3a667"
      },
      "source": [
        "y = to_categorical(y)\n",
        "pd.DataFrame(y).sample(5)"
      ],
      "execution_count": 16,
      "outputs": [
        {
          "output_type": "execute_result",
          "data": {
            "text/html": [
              "<div>\n",
              "<style scoped>\n",
              "    .dataframe tbody tr th:only-of-type {\n",
              "        vertical-align: middle;\n",
              "    }\n",
              "\n",
              "    .dataframe tbody tr th {\n",
              "        vertical-align: top;\n",
              "    }\n",
              "\n",
              "    .dataframe thead th {\n",
              "        text-align: right;\n",
              "    }\n",
              "</style>\n",
              "<table border=\"1\" class=\"dataframe\">\n",
              "  <thead>\n",
              "    <tr style=\"text-align: right;\">\n",
              "      <th></th>\n",
              "      <th>0</th>\n",
              "      <th>1</th>\n",
              "      <th>2</th>\n",
              "    </tr>\n",
              "  </thead>\n",
              "  <tbody>\n",
              "    <tr>\n",
              "      <th>1485</th>\n",
              "      <td>0.0</td>\n",
              "      <td>1.0</td>\n",
              "      <td>0.0</td>\n",
              "    </tr>\n",
              "    <tr>\n",
              "      <th>2507</th>\n",
              "      <td>0.0</td>\n",
              "      <td>0.0</td>\n",
              "      <td>1.0</td>\n",
              "    </tr>\n",
              "    <tr>\n",
              "      <th>2248</th>\n",
              "      <td>0.0</td>\n",
              "      <td>0.0</td>\n",
              "      <td>1.0</td>\n",
              "    </tr>\n",
              "    <tr>\n",
              "      <th>62</th>\n",
              "      <td>1.0</td>\n",
              "      <td>0.0</td>\n",
              "      <td>0.0</td>\n",
              "    </tr>\n",
              "    <tr>\n",
              "      <th>2611</th>\n",
              "      <td>0.0</td>\n",
              "      <td>0.0</td>\n",
              "      <td>1.0</td>\n",
              "    </tr>\n",
              "  </tbody>\n",
              "</table>\n",
              "</div>"
            ],
            "text/plain": [
              "        0    1    2\n",
              "1485  0.0  1.0  0.0\n",
              "2507  0.0  0.0  1.0\n",
              "2248  0.0  0.0  1.0\n",
              "62    1.0  0.0  0.0\n",
              "2611  0.0  0.0  1.0"
            ]
          },
          "metadata": {
            "tags": []
          },
          "execution_count": 16
        }
      ]
    },
    {
      "cell_type": "markdown",
      "metadata": {
        "id": "PfuhRvEwrbl2",
        "colab_type": "text"
      },
      "source": [
        "# Train ve Test İşlemleri İçin Ayrımı Gerçekleştirelim : \n",
        "\n",
        "---\n"
      ]
    },
    {
      "cell_type": "code",
      "metadata": {
        "id": "vZ3KuVgorLU4",
        "colab_type": "code",
        "colab": {}
      },
      "source": [
        "x_train, x_test, y_train, y_test = train_test_split(x, y, test_size = 0.2, random_state = 42)"
      ],
      "execution_count": 17,
      "outputs": []
    },
    {
      "cell_type": "code",
      "metadata": {
        "id": "2xzI-22trfVt",
        "colab_type": "code",
        "colab": {
          "base_uri": "https://localhost:8080/",
          "height": 84
        },
        "outputId": "99db8f4c-c252-4e29-c357-ef0facc1adac"
      },
      "source": [
        "print('x Train : ' + str(x_train.shape))\n",
        "print('x Test : ' + str(x_test.shape))\n",
        "print('y Train : ' + str(y_train.shape))\n",
        "print('y Test : ' + str(y_test.shape))"
      ],
      "execution_count": 18,
      "outputs": [
        {
          "output_type": "stream",
          "text": [
            "x Train : (2399, 23)\n",
            "x Test : (600, 23)\n",
            "y Train : (2399, 3)\n",
            "y Test : (600, 3)\n"
          ],
          "name": "stdout"
        }
      ]
    },
    {
      "cell_type": "markdown",
      "metadata": {
        "id": "zbqs9_rrk4wP",
        "colab_type": "text"
      },
      "source": [
        "# Eğitime Başlayalım\n",
        "\n",
        "---\n"
      ]
    },
    {
      "cell_type": "code",
      "metadata": {
        "id": "hKQEAjcajcYn",
        "colab_type": "code",
        "colab": {
          "base_uri": "https://localhost:8080/",
          "height": 118
        },
        "outputId": "480e416e-abb5-4e54-e649-42259d93f085"
      },
      "source": [
        "model = DecisionTreeClassifier(random_state = 42)\n",
        "model.fit(x_train,y_train)"
      ],
      "execution_count": 19,
      "outputs": [
        {
          "output_type": "execute_result",
          "data": {
            "text/plain": [
              "DecisionTreeClassifier(ccp_alpha=0.0, class_weight=None, criterion='gini',\n",
              "                       max_depth=None, max_features=None, max_leaf_nodes=None,\n",
              "                       min_impurity_decrease=0.0, min_impurity_split=None,\n",
              "                       min_samples_leaf=1, min_samples_split=2,\n",
              "                       min_weight_fraction_leaf=0.0, presort='deprecated',\n",
              "                       random_state=42, splitter='best')"
            ]
          },
          "metadata": {
            "tags": []
          },
          "execution_count": 19
        }
      ]
    },
    {
      "cell_type": "code",
      "metadata": {
        "id": "DdJWmCFelCp3",
        "colab_type": "code",
        "colab": {
          "base_uri": "https://localhost:8080/",
          "height": 34
        },
        "outputId": "b72cd796-a975-4951-9d84-920eb8e7f71c"
      },
      "source": [
        "accuracy_score(y_test,model.predict(x_test))"
      ],
      "execution_count": 20,
      "outputs": [
        {
          "output_type": "execute_result",
          "data": {
            "text/plain": [
              "0.905"
            ]
          },
          "metadata": {
            "tags": []
          },
          "execution_count": 20
        }
      ]
    },
    {
      "cell_type": "markdown",
      "metadata": {
        "id": "KpowqwO-mcaW",
        "colab_type": "text"
      },
      "source": [
        "# Sonuçları Değerlendirelim\n",
        "\n",
        "---\n"
      ]
    },
    {
      "cell_type": "code",
      "metadata": {
        "id": "Gw7MGyCdmZmK",
        "colab_type": "code",
        "colab": {
          "base_uri": "https://localhost:8080/",
          "height": 388
        },
        "outputId": "ac52dd38-fdfb-491d-b497-bbdfbdc3b962"
      },
      "source": [
        "y_pred = model.predict(x_test)\n",
        "\n",
        "y_test_class = np.argmax(y_test, axis=1)\n",
        "y_pred_class = np.argmax(y_pred, axis=1)\n",
        "\n",
        "cm = confusion_matrix(y_test_class, y_pred_class)\n",
        "\n",
        "fig, ax = plot_confusion_matrix(conf_mat = cm,\n",
        "                                show_normed = True,\n",
        "                                figsize = (6,6))"
      ],
      "execution_count": 21,
      "outputs": [
        {
          "output_type": "display_data",
          "data": {
            "image/png": "[encoded data removed]",
            "text/plain": [
              "<Figure size 432x432 with 1 Axes>"
            ]
          },
          "metadata": {
            "tags": [],
            "needs_background": "light"
          }
        }
      ]
    }
  ]
}